{
 "cells": [
  {
   "cell_type": "code",
   "execution_count": 1,
   "metadata": {},
   "outputs": [],
   "source": [
    "import pandas as pd\n",
    "\n",
    "def hitung_rata_rata_rouge_keseluruhan(df):\n",
    "    \"\"\"\n",
    "    Menghitung rata-rata tunggal dari semua metrik ROUGE (R1, R2, RL)\n",
    "    \n",
    "    Parameters:\n",
    "    df (pandas.DataFrame): DataFrame dengan kolom 'nama_dokumen', 'R1', 'R2', 'RL'\n",
    "    \n",
    "    Returns:\n",
    "    dict: Nilai rata-rata untuk setiap metrik dan rata-rata keseluruhan\n",
    "    \"\"\"\n",
    "    # Menghitung rata-rata untuk setiap metrik\n",
    "    rata_rata_R1 = df['R1'].mean()\n",
    "    rata_rata_R2 = df['R2'].mean()\n",
    "    rata_rata_RL = df['RL'].mean()\n",
    "    \n",
    "    # Menghitung rata-rata keseluruhan\n",
    "    rata_rata_total = (rata_rata_R1 + rata_rata_R2 + rata_rata_RL) / 3\n",
    "    \n",
    "    hasil = {\n",
    "        'R1': round(rata_rata_R1, 4),\n",
    "        'R2': round(rata_rata_R2, 4),\n",
    "        'RL': round(rata_rata_RL, 4),\n",
    "        'Rata-rata Keseluruhan': round(rata_rata_total, 4)\n",
    "    }\n",
    "    \n",
    "    return hasil"
   ]
  },
  {
   "cell_type": "code",
   "execution_count": 2,
   "metadata": {},
   "outputs": [
    {
     "name": "stdout",
     "output_type": "stream",
     "text": [
      "{'R1': 0.5663, 'R2': 0.4738, 'RL': 0.5114, 'Rata-rata Keseluruhan': 0.5172}\n"
     ]
    }
   ],
   "source": [
    "# Baca data Anda (misalnya dari CSV)\n",
    "df = pd.read_csv('data/rouge/rouge.csv')\n",
    "\n",
    "# Hitung rata-rata\n",
    "hasil = hitung_rata_rata_rouge_keseluruhan(df)\n",
    "\n",
    "# Tampilkan hasil\n",
    "print(hasil)"
   ]
  }
 ],
 "metadata": {
  "kernelspec": {
   "display_name": "torch-nlp",
   "language": "python",
   "name": "python3"
  },
  "language_info": {
   "codemirror_mode": {
    "name": "ipython",
    "version": 3
   },
   "file_extension": ".py",
   "mimetype": "text/x-python",
   "name": "python",
   "nbconvert_exporter": "python",
   "pygments_lexer": "ipython3",
   "version": "3.9.19"
  }
 },
 "nbformat": 4,
 "nbformat_minor": 2
}
