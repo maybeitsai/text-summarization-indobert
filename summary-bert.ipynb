{
 "cells": [
  {
   "cell_type": "code",
   "execution_count": 1,
   "metadata": {},
   "outputs": [
    {
     "name": "stderr",
     "output_type": "stream",
     "text": [
      "c:\\Users\\harry\\anaconda3\\envs\\torch-nlp\\lib\\site-packages\\tqdm\\auto.py:21: TqdmWarning: IProgress not found. Please update jupyter and ipywidgets. See https://ipywidgets.readthedocs.io/en/stable/user_install.html\n",
      "  from .autonotebook import tqdm as notebook_tqdm\n"
     ]
    }
   ],
   "source": [
    "import torch\n",
    "import pandas as pd\n",
    "from transformers import EncoderDecoderModel, BertTokenizer\n",
    "import warnings\n",
    "warnings.filterwarnings('ignore')\n",
    "\n",
    "import torch_directml\n",
    "\n",
    "# Gunakan GPU jika tersedia\n",
    "device = torch_directml.device()"
   ]
  },
  {
   "cell_type": "code",
   "execution_count": 2,
   "metadata": {},
   "outputs": [],
   "source": [
    "# Fungsi untuk memuat model BERT\n",
    "def load_bert_model(model_path):\n",
    "    model = EncoderDecoderModel.from_pretrained(model_path)\n",
    "    tokenizer = BertTokenizer.from_pretrained(model_path)\n",
    "    model = model.to(device)\n",
    "    return model, tokenizer\n",
    "\n",
    "# Fungsi untuk menghasilkan ringkasan menggunakan BERT\n",
    "def generate_bert_summary(text, model, tokenizer):\n",
    "    inputs = tokenizer(text, return_tensors=\"pt\", max_length=512, truncation=True, padding=\"max_length\")\n",
    "    inputs = {k: v.to(device) for k, v in inputs.items()}\n",
    "    \n",
    "    summary_ids = model.generate(\n",
    "        inputs[\"input_ids\"],\n",
    "        num_beams=4,\n",
    "        max_length=256,\n",
    "        early_stopping=True\n",
    "    )\n",
    "    \n",
    "    summary = tokenizer.decode(summary_ids[0], skip_special_tokens=True)\n",
    "    return summary"
   ]
  },
  {
   "cell_type": "code",
   "execution_count": 3,
   "metadata": {},
   "outputs": [
    {
     "name": "stdout",
     "output_type": "stream",
     "text": [
      "Processing latarbelakang...\n",
      "Completed latarbelakang\n",
      "Processing rumusanmasalah...\n",
      "Completed rumusanmasalah\n",
      "Processing tujuanpenelitian...\n",
      "Completed tujuanpenelitian\n",
      "Processing rangkumanpenelitianterkait...\n",
      "Completed rangkumanpenelitianterkait\n",
      "Processing metodologipenelitian...\n",
      "Completed metodologipenelitian\n",
      "All sections processed and saved.\n"
     ]
    }
   ],
   "source": [
    "# Daftar bagian\n",
    "sections = ['latarbelakang', 'rumusanmasalah', 'tujuanpenelitian', 'rangkumanpenelitianterkait', 'metodologipenelitian']\n",
    "\n",
    "# Proses setiap bagian\n",
    "for section in sections:\n",
    "    print(f\"Processing {section}...\")\n",
    "    \n",
    "    # Muat data\n",
    "    df = pd.read_csv(f'data/final-data/{section}.csv')\n",
    "    \n",
    "    # Muat model BERT\n",
    "    model, tokenizer = load_bert_model(f\"model/saved_model_{section}\")\n",
    "    \n",
    "    # Generate summaries\n",
    "    summaries = []\n",
    "    for _, row in df.iterrows():\n",
    "        summary = generate_bert_summary(row['kalimat'], model, tokenizer)\n",
    "        summaries.append(summary)\n",
    "        \n",
    "        # Bersihkan memori GPU\n",
    "        torch.cuda.empty_cache()\n",
    "    \n",
    "    # Buat DataFrame hasil\n",
    "    result_df = pd.DataFrame({\n",
    "        'nama_dokumen': df['nama_dokumen'],\n",
    "        'summary_bert': summaries\n",
    "    })\n",
    "    \n",
    "    # Simpan hasil ke CSV\n",
    "    result_df.to_csv(f'data/output-bert/{section}.csv', index=False)\n",
    "    \n",
    "    print(f\"Completed {section}\")\n",
    "\n",
    "print(\"All sections processed and saved.\")"
   ]
  }
 ],
 "metadata": {
  "kernelspec": {
   "display_name": "torch-nlp",
   "language": "python",
   "name": "python3"
  },
  "language_info": {
   "codemirror_mode": {
    "name": "ipython",
    "version": 3
   },
   "file_extension": ".py",
   "mimetype": "text/x-python",
   "name": "python",
   "nbconvert_exporter": "python",
   "pygments_lexer": "ipython3",
   "version": "3.9.19"
  }
 },
 "nbformat": 4,
 "nbformat_minor": 2
}
