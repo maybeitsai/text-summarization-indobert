{
 "cells": [
  {
   "cell_type": "markdown",
   "metadata": {},
   "source": [
    "# Step 5: Feature Extraction"
   ]
  },
  {
   "cell_type": "code",
   "execution_count": 7,
   "metadata": {},
   "outputs": [],
   "source": [
    "import os\n",
    "from modules.txt2csv import load_title_words_from_csv, save_to_csv_with_features, process_and_save_title_csv"
   ]
  },
  {
   "cell_type": "code",
   "execution_count": 2,
   "metadata": {},
   "outputs": [
    {
     "name": "stdout",
     "output_type": "stream",
     "text": [
      "Proses selesai! File judul disimpan sebagai data/clean-data-csv/judul-clean.csv.\n"
     ]
    }
   ],
   "source": [
    "# Simpan judul\n",
    "input_folder_title = 'data/clean-data-txt/judul'\n",
    "output_csv_path = 'data/clean-data-csv/judul-clean.csv'\n",
    "\n",
    "process_and_save_title_csv(input_folder_title, output_csv_path, clean=True)"
   ]
  },
  {
   "cell_type": "code",
   "execution_count": 8,
   "metadata": {},
   "outputs": [
    {
     "name": "stdout",
     "output_type": "stream",
     "text": [
      "Proses selesai! File judul disimpan sebagai data/clean-data-csv/judul.csv.\n"
     ]
    }
   ],
   "source": [
    "# Simpan judul\n",
    "input_folder_title = 'data/clean-data-txt/judul'\n",
    "output_csv_path = 'data/clean-data-csv/judul.csv'\n",
    "\n",
    "process_and_save_title_csv(input_folder_title, output_csv_path, clean=False)"
   ]
  },
  {
   "cell_type": "code",
   "execution_count": 4,
   "metadata": {},
   "outputs": [],
   "source": [
    "input_folder = 'data/clean-data-txt'\n",
    "output_folder = 'data/clean-data-csv'\n",
    "title_csv_path = 'data/clean-data-csv/judul-clean.csv'\n",
    "cue_words = ['hasil', 'penting', 'cipta', 'buat', 'bangun', 'rancang', \n",
    "             'kembang', 'wujud', 'simpulan', 'simpul', 'tingkat', 'sempurna']  # Define cue words and title words for testing\n",
    "sections = ['latarbelakang', 'rumusanmasalah', 'tujuanpenelitian', \n",
    "            'rangkumanpenelitianterkait', 'metodologipenelitian']"
   ]
  },
  {
   "cell_type": "code",
   "execution_count": null,
   "metadata": {},
   "outputs": [],
   "source": [
    "title_dict = load_title_words_from_csv(title_csv_path)"
   ]
  },
  {
   "cell_type": "code",
   "execution_count": 6,
   "metadata": {},
   "outputs": [
    {
     "name": "stdout",
     "output_type": "stream",
     "text": [
      "Data untuk bagian 'latarbelakang' disimpan di data/clean-data-csv\\latarbelakang.csv.\n",
      "Data untuk bagian 'rumusanmasalah' disimpan di data/clean-data-csv\\rumusanmasalah.csv.\n",
      "Data untuk bagian 'tujuanpenelitian' disimpan di data/clean-data-csv\\tujuanpenelitian.csv.\n",
      "Data untuk bagian 'rangkumanpenelitianterkait' disimpan di data/clean-data-csv\\rangkumanpenelitianterkait.csv.\n",
      "Data untuk bagian 'metodologipenelitian' disimpan di data/clean-data-csv\\metodologipenelitian.csv.\n"
     ]
    }
   ],
   "source": [
    "for section in sections:\n",
    "    input_section_folder = os.path.join(input_folder, section)\n",
    "    save_to_csv_with_features(input_section_folder, output_folder, section, title_dict, cue_words)"
   ]
  },
  {
   "cell_type": "code",
   "execution_count": 7,
   "metadata": {},
   "outputs": [],
   "source": [
    "# output_folder_stem = 'data/clean-data-stem-csv'\n",
    "# for section in sections:\n",
    "#     input_section_folder = os.path.join(input_folder, section)\n",
    "#     save_to_csv_with_features(input_section_folder, output_folder_stem, section, title_dict, cue_words, clean=True)"
   ]
  }
 ],
 "metadata": {
  "kernelspec": {
   "display_name": "torch-nlp",
   "language": "python",
   "name": "python3"
  },
  "language_info": {
   "codemirror_mode": {
    "name": "ipython",
    "version": 3
   },
   "file_extension": ".py",
   "mimetype": "text/x-python",
   "name": "python",
   "nbconvert_exporter": "python",
   "pygments_lexer": "ipython3",
   "version": "3.9.19"
  }
 },
 "nbformat": 4,
 "nbformat_minor": 2
}
