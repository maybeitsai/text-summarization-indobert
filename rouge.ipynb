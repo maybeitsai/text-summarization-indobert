{
 "cells": [
  {
   "cell_type": "code",
   "execution_count": 1,
   "metadata": {},
   "outputs": [],
   "source": [
    "SECTIONS = [\"latarbelakang\", \"rumusanmasalah\", \"tujuanpenelitian\", \"rangkumanpenelitianterkait\", \"metodologipenelitian\"]\n",
    "DATA_OUTPUT = \"data/penilaian-data/80/output-bert.csv\"\n",
    "DATA_REFERENCE = \"data/final-data/{SECTIONS}.csv\""
   ]
  },
  {
   "cell_type": "code",
   "execution_count": 2,
   "metadata": {},
   "outputs": [
    {
     "name": "stdout",
     "output_type": "stream",
     "text": [
      "Hasil perhitungan ROUGE telah disimpan di data/rouge/rouge.csv\n"
     ]
    }
   ],
   "source": [
    "import pandas as pd\n",
    "import numpy as np\n",
    "from rouge_score import rouge_scorer\n",
    "import csv\n",
    "\n",
    "# Fungsi untuk menghitung skor ROUGE\n",
    "def calculate_rouge(generated, reference):\n",
    "    scorer = rouge_scorer.RougeScorer(['rouge1', 'rouge2', 'rougeL'], use_stemmer=True)\n",
    "    scores = scorer.score(generated, reference)\n",
    "    return (\n",
    "        scores['rouge1'].fmeasure,\n",
    "        scores['rouge2'].fmeasure,\n",
    "        scores['rougeL'].fmeasure\n",
    "    )\n",
    "\n",
    "# Baca file output\n",
    "output_df = pd.read_csv(DATA_OUTPUT)\n",
    "\n",
    "# Inisialisasi dictionary untuk menyimpan hasil\n",
    "results = {}\n",
    "\n",
    "# Proses setiap bagian\n",
    "for section in SECTIONS:\n",
    "    # Baca file referensi untuk bagian ini\n",
    "    ref_df = pd.read_csv(DATA_REFERENCE.format(SECTIONS=section))\n",
    "    \n",
    "    # Buat dictionary dari data referensi\n",
    "    ref_dict = dict(zip(ref_df['nama_dokumen'], ref_df['summary']))\n",
    "    \n",
    "    for _, row in output_df.iterrows():\n",
    "        nama_dokumen = row['nama_dokumen']\n",
    "        generated_text = row[section]\n",
    "        reference_text = ref_dict.get(nama_dokumen, '')\n",
    "        \n",
    "        # Hitung skor ROUGE\n",
    "        r1, r2, rl = calculate_rouge(generated_text, reference_text) if reference_text else (0, 0, 0)\n",
    "        \n",
    "        # Simpan hasil\n",
    "        if nama_dokumen not in results:\n",
    "            results[nama_dokumen] = {'R1': [], 'R2': [], 'RL': []}\n",
    "        \n",
    "        results[nama_dokumen]['R1'].append(r1)\n",
    "        results[nama_dokumen]['R2'].append(r2)\n",
    "        results[nama_dokumen]['RL'].append(rl)\n",
    "\n",
    "# Hitung rata-rata skor untuk setiap dokumen\n",
    "final_results = []\n",
    "for nama_dokumen, scores in results.items():\n",
    "    final_results.append({\n",
    "        'nama_dokumen': nama_dokumen,\n",
    "        'R1': np.mean(scores['R1']),\n",
    "        'R2': np.mean(scores['R2']),\n",
    "        'RL': np.mean(scores['RL'])\n",
    "    })\n",
    "\n",
    "# Simpan hasil ke file CSV\n",
    "output_file = 'data/rouge/rouge.csv'\n",
    "with open(output_file, 'w', newline='') as csvfile:\n",
    "    fieldnames = ['nama_dokumen', 'R1', 'R2', 'RL']\n",
    "    writer = csv.DictWriter(csvfile, fieldnames=fieldnames)\n",
    "    \n",
    "    writer.writeheader()\n",
    "    for row in final_results:\n",
    "        writer.writerow(row)\n",
    "\n",
    "print(f\"Hasil perhitungan ROUGE telah disimpan di {output_file}\")"
   ]
  },
  {
   "cell_type": "code",
   "execution_count": 3,
   "metadata": {},
   "outputs": [
    {
     "name": "stdout",
     "output_type": "stream",
     "text": [
      "                           nama_dokumen       R1       R2       RL\n",
      "         Kualifikasi_Rama Dian Syah.txt 0.608213 0.431673 0.501974\n",
      "MetaMeysawati_KUALIFIKASI(99216026).txt 0.464918 0.355807 0.411149\n",
      "                 Robert_Kualifikasi.txt 0.458237 0.303286 0.364057\n",
      "\n",
      "Rata-rata metrik:\n",
      "R1    0.510456\n",
      "R2    0.363588\n",
      "RL    0.425727\n"
     ]
    }
   ],
   "source": [
    "import pandas as pd\n",
    "\n",
    "# Baca file CSV yang telah kita simpan sebelumnya\n",
    "df = pd.read_csv('data/rouge/rouge.csv')\n",
    "\n",
    "# Daftar dokumen yang ingin ditampilkan\n",
    "dokumen_target = [\n",
    "    'Robert_Kualifikasi.txt',\n",
    "    'MetaMeysawati_KUALIFIKASI(99216026).txt',\n",
    "    'Kualifikasi_Rama Dian Syah.txt'\n",
    "]\n",
    "\n",
    "# Filter DataFrame untuk hanya menampilkan dokumen yang diminta\n",
    "df_filtered = df[df['nama_dokumen'].isin(dokumen_target)]\n",
    "\n",
    "# Tampilkan hasil\n",
    "print(df_filtered.to_string(index=False))\n",
    "\n",
    "# Hitung dan tampilkan rata-rata metrik\n",
    "average_metrics = df_filtered[['R1', 'R2', 'RL']].mean()\n",
    "print(\"\\nRata-rata metrik:\")\n",
    "print(average_metrics.to_string())"
   ]
  }
 ],
 "metadata": {
  "kernelspec": {
   "display_name": "torch-nlp",
   "language": "python",
   "name": "python3"
  },
  "language_info": {
   "codemirror_mode": {
    "name": "ipython",
    "version": 3
   },
   "file_extension": ".py",
   "mimetype": "text/x-python",
   "name": "python",
   "nbconvert_exporter": "python",
   "pygments_lexer": "ipython3",
   "version": "3.9.19"
  }
 },
 "nbformat": 4,
 "nbformat_minor": 2
}
